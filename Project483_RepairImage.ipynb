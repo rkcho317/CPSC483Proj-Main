{
 "nbformat": 4,
 "nbformat_minor": 0,
 "metadata": {
  "colab": {
   "name": "Project483-RepairImage",
   "provenance": [],
   "collapsed_sections": []
  },
  "kernelspec": {
   "name": "python3",
   "display_name": "Python 3"
  },
  "language_info": {
   "name": "python"
  }
 },
 "cells": [
  {
   "cell_type": "markdown",
   "source": [
    "# Libraries"
   ],
   "metadata": {
    "id": "6WJxzVQfHzub"
   }
  },
  {
   "cell_type": "code",
   "execution_count": 2,
   "metadata": {
    "id": "99FTKsx6NPXf"
   },
   "outputs": [],
   "source": [
    "import cv2\n",
    "import matplotlib.pyplot as plt  \n",
    "%matplotlib inline\n",
    "import numpy as np\n",
    "from skimage import io\n",
    "\n"
   ]
  },
  {
   "cell_type": "markdown",
   "source": [
    "# Dataset Import and Data Preprocessing "
   ],
   "metadata": {
    "id": "SmmVaOQcHSxl"
   }
  },
  {
   "cell_type": "code",
   "source": [
    "#import Dataset Library \n",
    "#Files to be processed\n",
    "\n",
    "        #from google.colab import drive\n",
    "        #drive.mount('/content/gdrive')\n",
    "\n"
   ],
   "metadata": {
    "id": "tgjOEpha3ZcE",
    "colab": {
     "base_uri": "https://localhost:8080/"
    },
    "outputId": "7fc5fa6f-7897-4526-e02d-d84db6705565"
   },
   "execution_count": 1,
   "outputs": [
    {
     "output_type": "stream",
     "name": "stdout",
     "text": [
      "Mounted at /content/gdrive\n"
     ]
    }
   ]
  },
  {
   "cell_type": "code",
   "source": [
    "#Import images to read \n",
    "\n",
    "#folder = os.path.join('/content/drive/My Drive/epoch100')\n",
    "import os\n",
    "os.getcwd()\n",
    "#collection = '/content/drive/My_Drive/epoch100/'\n",
    "collection_damage = \"C:/Users/mechanika/Dropbox/School/CPSC 483 Machine Learning/Project-Main/project-main/epoch100/seg_test\"\n",
    "collection_ori = \"C:/Users/mechanika/Dropbox/School/CPSC 483 Machine Learning/Project-Main/project-main/epoch100/seg_pred\"\n",
    "\n",
    "for i, filename in enumerate(os.listdir(collection_damage)):\n",
    "   damaged_images = cv2.imread(\"a\"+str(i)+\".png\")\n",
    "\n",
    "for i, filename in enumerate(os.listdir(collection_ori)):\n",
    "   ori_images = cv2.imread(\"a\"+str(i)+\".png\")"
   ],
   "metadata": {
    "id": "-xR84H7rNWit",
    "colab": {
     "base_uri": "https://localhost:8080/",
     "height": 218
    },
    "outputId": "373c1a85-7a53-4dd7-da09-3b43c9a56871"
   },
   "execution_count": 8,
   "outputs": []
  },
  {
   "cell_type": "code",
   "source": [
    "#Data Preprocessing through Normalization\n",
    "#This is used to normalize an image which converts the RGB data of an image into a range of integers\n",
    "\n",
    "# plotting the original image and the RGB channels\n",
    "i, (im1, im2, im3, im4) = plt.subplots(1, 4, sharey=True)\n",
    "i.set_figwidth(20)\n",
    "\n",
    "damage_1 = damaged_images(\"a0.png\") \n",
    "\n",
    "im1.imshow(damage_1)  #Original image\n",
    "im2.imshow(damage_1[:, : , 0]) #Red\n",
    "im3.imshow(damage_1[:, : , 1]) #Green\n",
    "im4.imshow(damage_1[:, : , 2]) #Blue\n",
    "i.suptitle('Original & RGB image channels')\n",
    "\n",
    "#for i, filename in enumerate(os.listdir(collection_damage)):\n",
    "#    gray_images = damaged_images.color.rgb2gray(damaged_images)\n",
    "gray_image = damage_1.color.rgb2gray(damage_1)\n",
    "#    norm_image = (gray_images - np.min(gray_images)) / (np.max(gray_images) - np.min(gray_images))\n",
    "norm_image = (gray_image - np.min(gray_image)) / (np.max(gray_image) - np.min(gray_image))\n"
   ],
   "metadata": {
    "id": "pu00yRru31xm",
    "colab": {
     "base_uri": "https://localhost:8080/",
     "height": 428
    },
    "outputId": "f836a227-719b-4f49-f3bc-bdea08d0d460"
   },
   "execution_count": 12,
   "outputs": [
    {
     "ename": "TypeError",
     "evalue": "'NoneType' object is not callable",
     "output_type": "error",
     "traceback": [
      "\u001B[1;31m---------------------------------------------------------------------------\u001B[0m",
      "\u001B[1;31mTypeError\u001B[0m                                 Traceback (most recent call last)",
      "\u001B[1;32mC:\\Users\\MECHAN~1\\AppData\\Local\\Temp/ipykernel_13168/3074280867.py\u001B[0m in \u001B[0;36m<module>\u001B[1;34m\u001B[0m\n\u001B[0;32m      6\u001B[0m \u001B[0mi\u001B[0m\u001B[1;33m.\u001B[0m\u001B[0mset_figwidth\u001B[0m\u001B[1;33m(\u001B[0m\u001B[1;36m20\u001B[0m\u001B[1;33m)\u001B[0m\u001B[1;33m\u001B[0m\u001B[1;33m\u001B[0m\u001B[0m\n\u001B[0;32m      7\u001B[0m \u001B[1;33m\u001B[0m\u001B[0m\n\u001B[1;32m----> 8\u001B[1;33m \u001B[0mdamage_1\u001B[0m \u001B[1;33m=\u001B[0m \u001B[0mdamaged_images\u001B[0m\u001B[1;33m(\u001B[0m\u001B[1;34m\"a0.png\"\u001B[0m\u001B[1;33m)\u001B[0m\u001B[1;33m\u001B[0m\u001B[1;33m\u001B[0m\u001B[0m\n\u001B[0m\u001B[0;32m      9\u001B[0m \u001B[1;33m\u001B[0m\u001B[0m\n\u001B[0;32m     10\u001B[0m \u001B[0mim1\u001B[0m\u001B[1;33m.\u001B[0m\u001B[0mimshow\u001B[0m\u001B[1;33m(\u001B[0m\u001B[0mdamage_1\u001B[0m\u001B[1;33m)\u001B[0m  \u001B[1;31m#Original image\u001B[0m\u001B[1;33m\u001B[0m\u001B[1;33m\u001B[0m\u001B[0m\n",
      "\u001B[1;31mTypeError\u001B[0m: 'NoneType' object is not callable"
     ]
    },
    {
     "data": {
      "text/plain": "<Figure size 1440x288 with 4 Axes>",
      "image/png": "[encoded data removed]"
     },
     "metadata": {
      "needs_background": "light"
     },
     "output_type": "display_data"
    }
   ]
  },
  {
   "cell_type": "markdown",
   "source": [
    "# Training Data using an ML algorithm"
   ],
   "metadata": {
    "id": "GwaJyQRbHdyv"
   }
  },
  {
   "cell_type": "code",
   "source": [
    "#Read mask\n",
    "#expand this by bringing on perhaps Clustering?\n",
    "#certainly not KNN\n",
    "mask_path = \"Mask.tiff\"\n",
    "mask = cv2.imread(mask_path, 0)"
   ],
   "metadata": {
    "id": "p6KT2OVYNYaO"
   },
   "execution_count": null,
   "outputs": []
  },
  {
   "cell_type": "markdown",
   "source": [
    "# Testing Data by fixing the Images\n"
   ],
   "metadata": {
    "id": "LXKlHVGeHkvC"
   }
  },
  {
   "cell_type": "code",
   "source": [
    "#Use cv2 to read and fix the damaged image\n",
    "damaged_images = cv2.cvtColor(damaged_images, cv2.COLOR_BGR2RGB)"
   ],
   "metadata": {
    "id": "-4gC_WAiNaTz"
   },
   "execution_count": null,
   "outputs": []
  },
  {
   "cell_type": "code",
   "source": [
    "#print both the mask and the fixed image\n",
    "output1 = cv2.inpaint(damaged_image, mask, 1, cv2.INPAINT_TELEA)\n",
    "output2 = cv2.inpaint(damaged_image, mask, 1, cv2.INPAINT_NS)"
   ],
   "metadata": {
    "id": "8Xy2fVhsNb5r"
   },
   "execution_count": null,
   "outputs": []
  },
  {
   "cell_type": "markdown",
   "source": [],
   "metadata": {
    "id": "DXBOtPW9MICG"
   }
  },
  {
   "cell_type": "markdown",
   "source": [
    "# Show Before and After Restoration\n"
   ],
   "metadata": {
    "id": "eXl5vtopHp9d"
   }
  },
  {
   "cell_type": "code",
   "source": [
    "#show plot\n",
    "img = [damaged_image, mask, output1, output2]\n",
    "titles = ['damaged image', 'mask', 'TELEA', 'NS']\n",
    "for i in range(4):\n",
    "    plt.subplot(2, 2, i+1)\n",
    "    plt.xticks([])\n",
    "    plt.yticks([])\n",
    "    plt.title(titles[i])\n",
    "    plt.imshow(img[i])\n",
    "plt.show()"
   ],
   "metadata": {
    "id": "sVYPIBdvNdiL"
   },
   "execution_count": null,
   "outputs": []
  },
  {
   "cell_type": "markdown",
   "source": [
    "#  Predictions and Confusion Matrix\n"
   ],
   "metadata": {
    "id": "BlUgbVadHvWM"
   }
  },
  {
   "cell_type": "code",
   "source": [
    "#confusion matrix\n",
    "#this is supposed to show the accuracy of algorithm\n",
    "cm = metrics.confusion_matrix(test_imgs, ori_images)\n",
    "ax = sns.heatmap(cm, annot=True, \n",
    "                 xticklabels = use_cats,\n",
    "                 yticklabels = use_cats,\n",
    "                 fmt='3d')\n",
    "ax.set_xlabel('Predicted')\n",
    "ax.set_ylabel('Actual')"
   ],
   "metadata": {
    "id": "Idt3szNnH6V8"
   },
   "execution_count": null,
   "outputs": []
  }
 ]
}